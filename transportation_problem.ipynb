{
 "cells": [
  {
   "cell_type": "markdown",
   "metadata": {},
   "source": [
    "## Chapter 3: Tranportation problem"
   ]
  },
  {
   "cell_type": "code",
   "execution_count": 1,
   "metadata": {},
   "outputs": [],
   "source": [
    "from amplpy import AMPL\n",
    "ampl = AMPL()\n",
    "ampl.option['solver'] = 'highs'"
   ]
  },
  {
   "cell_type": "markdown",
   "metadata": {},
   "source": [
    "Model specification"
   ]
  },
  {
   "cell_type": "code",
   "execution_count": 9,
   "metadata": {},
   "outputs": [
    {
     "name": "stdout",
     "output_type": "stream",
     "text": [
      "Warning:\n",
      "\tline 1 offset 60\n",
      "\ti is not defined\n",
      "\tcontext:  subject to Demand {j in DEST}: sum {i in ORIG} trans[i,j] =  >>> demand[i] <<< ;\n"
     ]
    }
   ],
   "source": [
    "ampl.reset()\n",
    "\n",
    "# set of origins representing the production mills\n",
    "ampl.eval('''set ORIG;''')\n",
    "# set of destinations representing factories \n",
    "ampl.eval('''set DEST;''')\n",
    "# set of supply values for each origin\n",
    "ampl.eval('''param supply {ORIG} >= 0;''')\n",
    "# set of demand values for each destination\n",
    "ampl.eval('''param demand {DEST} >= 0;''')\n",
    "# the sum of the supplies has to equal the sum of the demands\n",
    "ampl.eval('''check: sum {i in ORIG} supply[i] = sum {j in DEST} demand[j];''')\n",
    "# cost of shipping from each origin to each destination\n",
    "ampl.eval('''param cost {ORIG, DEST} >= 0;''')\n",
    "# amount transported from each origin to each destination\n",
    "ampl.eval('''var trans {ORIG, DEST} >= 0;''')\n",
    "# objective function: minimize the total cost of transportation\n",
    "ampl.eval('''minimize Total_Cost:\n",
    "          sum {i in ORIG, j in DEST} cost[i,j] * trans[i,j];''')\n",
    "# the sum of the transported goods from each origin has to be equal to the supply\n",
    "ampl.eval('''subject to Supply {i in ORIG}: sum{j in DEST} trans[i,j] = supply[i];''')\n",
    "# the sum of the transported goods to each destination has to be equal to the demand\n",
    "ampl.eval('''subject to Demand {j in DEST}: sum {i in ORIG} trans[i,j] = demand[j];''')\n"
   ]
  },
  {
   "cell_type": "markdown",
   "metadata": {},
   "source": [
    "Data specification"
   ]
  },
  {
   "cell_type": "code",
   "execution_count": 14,
   "metadata": {},
   "outputs": [],
   "source": [
    "origin = ['GARY', 'CLEV', 'PITT']\n",
    "supply = [1400, 2600, 2900]\n",
    "destination = ['FRA', 'DET', 'LAN', 'WIN', 'STL', 'FRE', 'LAF']\n",
    "demand = [900, 1200, 600, 400, 1700, 1100, 1000]\n",
    "cost = [[39, 14, 11, 14, 16, 82,  8],\n",
    "        [27,  9, 12,  9, 26, 95, 17],\n",
    "        [24, 14, 17, 13, 28, 99, 20]]\n",
    "ampl.set['ORIG'] = origin\n",
    "ampl.param['supply'] = supply\n",
    "ampl.set['DEST'] = destination\n",
    "ampl.param['demand'] = demand\n",
    "for orig in origin:\n",
    "    for dest in destination:\n",
    "        ampl.param['cost'][orig, dest] = cost[origin.index(orig)][destination.index(dest)]"
   ]
  },
  {
   "cell_type": "markdown",
   "metadata": {},
   "source": [
    "Display the problem instance"
   ]
  },
  {
   "cell_type": "code",
   "execution_count": 15,
   "metadata": {},
   "outputs": [
    {
     "name": "stdout",
     "output_type": "stream",
     "text": [
      "minimize Total_Cost:\n",
      "\t39*trans['GARY','FRA'] + 14*trans['GARY','DET'] + \n",
      "\t11*trans['GARY','LAN'] + 14*trans['GARY','WIN'] + \n",
      "\t16*trans['GARY','STL'] + 82*trans['GARY','FRE'] + 8*trans['GARY','LAF']\n",
      "\t + 27*trans['CLEV','FRA'] + 9*trans['CLEV','DET'] + \n",
      "\t12*trans['CLEV','LAN'] + 9*trans['CLEV','WIN'] + 26*trans['CLEV','STL']\n",
      "\t + 95*trans['CLEV','FRE'] + 17*trans['CLEV','LAF'] + \n",
      "\t24*trans['PITT','FRA'] + 14*trans['PITT','DET'] + \n",
      "\t17*trans['PITT','LAN'] + 13*trans['PITT','WIN'] + \n",
      "\t28*trans['PITT','STL'] + 99*trans['PITT','FRE'] + \n",
      "\t20*trans['PITT','LAF'];\n",
      "\n",
      "subject to Supply['GARY']:\n",
      "\ttrans['GARY','FRA'] + trans['GARY','DET'] + trans['GARY','LAN'] + \n",
      "\ttrans['GARY','WIN'] + trans['GARY','STL'] + trans['GARY','FRE'] + \n",
      "\ttrans['GARY','LAF'] = 1400;\n",
      "\n",
      "subject to Supply['CLEV']:\n",
      "\ttrans['CLEV','FRA'] + trans['CLEV','DET'] + trans['CLEV','LAN'] + \n",
      "\ttrans['CLEV','WIN'] + trans['CLEV','STL'] + trans['CLEV','FRE'] + \n",
      "\ttrans['CLEV','LAF'] = 2600;\n",
      "\n",
      "subject to Supply['PITT']:\n",
      "\ttrans['PITT','FRA'] + trans['PITT','DET'] + trans['PITT','LAN'] + \n",
      "\ttrans['PITT','WIN'] + trans['PITT','STL'] + trans['PITT','FRE'] + \n",
      "\ttrans['PITT','LAF'] = 2900;\n",
      "\n"
     ]
    }
   ],
   "source": [
    "ampl.eval('expand;')"
   ]
  },
  {
   "cell_type": "markdown",
   "metadata": {},
   "source": [
    "Solve the problem instance"
   ]
  },
  {
   "cell_type": "code",
   "execution_count": 16,
   "metadata": {},
   "outputs": [
    {
     "name": "stdout",
     "output_type": "stream",
     "text": [
      "HiGHS 1.7.1:HiGHS 1.7.1: optimal solution; objective 72300\n",
      "0 simplex iterations\n",
      "0 barrier iterations\n"
     ]
    }
   ],
   "source": [
    "ampl.solve()"
   ]
  },
  {
   "cell_type": "markdown",
   "metadata": {},
   "source": [
    "Display solution"
   ]
  },
  {
   "cell_type": "code",
   "execution_count": 17,
   "metadata": {},
   "outputs": [
    {
     "name": "stdout",
     "output_type": "stream",
     "text": [
      "trans [*,*] (tr)\n",
      ":     CLEV   GARY   PITT    :=\n",
      "DET   2600      0      0\n",
      "FRA      0      0      0\n",
      "FRE      0      0      0\n",
      "LAF      0   1400      0\n",
      "LAN      0      0      0\n",
      "STL      0      0      0\n",
      "WIN      0      0   2900\n",
      ";\n",
      "\n"
     ]
    }
   ],
   "source": [
    "ampl.display('trans')"
   ]
  }
 ],
 "metadata": {
  "kernelspec": {
   "display_name": "Python 3",
   "language": "python",
   "name": "python3"
  },
  "language_info": {
   "codemirror_mode": {
    "name": "ipython",
    "version": 3
   },
   "file_extension": ".py",
   "mimetype": "text/x-python",
   "name": "python",
   "nbconvert_exporter": "python",
   "pygments_lexer": "ipython3",
   "version": "3.10.4"
  }
 },
 "nbformat": 4,
 "nbformat_minor": 2
}
